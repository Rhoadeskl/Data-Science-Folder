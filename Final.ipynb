{
 "cells": [
  {
   "cell_type": "code",
   "execution_count": null,
   "id": "f8989346",
   "metadata": {},
   "outputs": [],
   "source": [
    "tasks = [\n",
    "    {'name' : 'Write email to Jan', 'completed' : True},\n",
    "    {'name' : 'Sweep front porch', 'completed' : True},\n",
    "    {'name' : 'Call mom', 'completed' : False}\n",
    "]\n",
    "\n",
    "def list_tasks():\n",
    "    for index, task in enumerate(tasks):\n",
    "        print(str.format('{}: {} (Completed: {})', index, task['name'], task['completed']))\n",
    "\n",
    "\n",
    "def add_task():\n",
    "    task_text = input('Please add a task: ')\n",
    "    new_tasks = {'name' : task_text, 'completed': False}\n",
    "    tasks.append(new_tasks)"
   ]
  },
  {
   "cell_type": "code",
   "execution_count": null,
   "id": "22b8819e",
   "metadata": {},
   "outputs": [],
   "source": [
    "def delete_task():\n",
    "    list_tasks()\n",
    "    delete_task = int(input('Input the index of the task you would like to delete: '))\n",
    "    del tasks[delete_task]"
   ]
  },
  {
   "cell_type": "code",
   "execution_count": null,
   "id": "c03bbd00",
   "metadata": {},
   "outputs": [],
   "source": [
    "def tasks_can_be_marked_complete():\n",
    "    list_tasks()\n",
    "    tasks_can_be_marked_complete = int(input('Please enter the number of the task you completed:'))\n",
    "    tasks[tasks_can_be_marked_complete]['completed'] = True"
   ]
  },
  {
   "cell_type": "code",
   "execution_count": null,
   "id": "4fd885b3",
   "metadata": {},
   "outputs": [],
   "source": [
    "menu_text = \"\"\"\n",
    "====================\n",
    "1. List the tasks\n",
    "2. Add a task\n",
    "3. Remove a task\n",
    "4. Mark task complete\n",
    "5. Quit\n",
    "\n",
    "What would you like to do? \"\"\"\n",
    "\n",
    "program_is_running = True\n",
    "\n",
    "while program_is_running:\n",
    "    decision = input(menu_text)\n",
    "    if decision == '1':\n",
    "        list_tasks()\n",
    "        \n",
    "    elif decision == '2':\n",
    "        add_task()\n",
    "    \n",
    "    elif decision == '3':\n",
    "        delete_task()\n",
    "    \n",
    "    elif decision == '4':\n",
    "        tasks_can_be_marked_complete()\n",
    "\n",
    "    elif decision == '5':\n",
    "        program_is_running = False\n",
    "    else:\n",
    "        print('please choose a valid option')\n"
   ]
  },
  {
   "cell_type": "code",
   "execution_count": null,
   "id": "ab44b1e8",
   "metadata": {},
   "outputs": [],
   "source": []
  },
  {
   "cell_type": "code",
   "execution_count": null,
   "id": "453589b4",
   "metadata": {},
   "outputs": [],
   "source": []
  }
 ],
 "metadata": {
  "kernelspec": {
   "display_name": "Python 3 (ipykernel)",
   "language": "python",
   "name": "python3"
  },
  "language_info": {
   "codemirror_mode": {
    "name": "ipython",
    "version": 3
   },
   "file_extension": ".py",
   "mimetype": "text/x-python",
   "name": "python",
   "nbconvert_exporter": "python",
   "pygments_lexer": "ipython3",
   "version": "3.9.12"
  }
 },
 "nbformat": 4,
 "nbformat_minor": 5
}
